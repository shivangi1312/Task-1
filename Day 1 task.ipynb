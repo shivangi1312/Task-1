{
 "cells": [
  {
   "cell_type": "markdown",
   "id": "4eff9db4",
   "metadata": {},
   "source": [
    "Day 1 to day 3 task : (Dead line 05/07/2023 at 5 pm) \n",
    "Data collection from web :\n",
    "Web Scrapping to get particular person's photo from google in bulk. Write a python code user will enter only name of that specific person's name and run, then download 50 photos of that person in your local system."
   ]
  },
  {
   "cell_type": "code",
   "execution_count": 1,
   "id": "2bb79bb1",
   "metadata": {},
   "outputs": [],
   "source": [
    "import os\n",
    "import requests\n",
    "from bs4 import BeautifulSoup\n",
    "from urllib.parse import quote"
   ]
  },
  {
   "cell_type": "code",
   "execution_count": null,
   "id": "a22fca90",
   "metadata": {},
   "outputs": [],
   "source": [
    "def download_images(person_name, num_images):\n",
    "    # Create a directory to save the downloaded images\n",
    "    if not os.path.exists(person_name):\n",
    "        os.makedirs(person_name)\n",
    "\n",
    "    # Format the search query for Google Images\n",
    "    query = quote(person_name)\n",
    "\n",
    "    # Generate the URL for the Google Images search results\n",
    "    url = f\"https://www.google.com/search?q={query}&tbm=isch\"\n",
    "\n",
    "    # Send a GET request to the URL and parse the HTML content\n",
    "    response = requests.get(url)\n",
    "    soup = BeautifulSoup(response.content, 'html.parser')\n",
    "\n",
    "    # Find all image elements in the parsed HTML\n",
    "    images = soup.find_all('img')\n",
    "\n",
    "    # Download the specified number of images\n",
    "    count = 0\n",
    "    for image in images:\n",
    "        if count >= num_images:\n",
    "            break\n",
    "\n",
    "        try:\n",
    "            # Extract the image source URL\n",
    "            image_url = image['src']\n",
    "\n",
    "            # Skip images with invalid URLs\n",
    "            if not image_url.startswith('http'):\n",
    "                continue\n",
    "\n",
    "            # Send a GET request to download the image\n",
    "            response = requests.get(image_url)\n",
    "\n",
    "            # Save the image to the specified directory\n",
    "            with open(f\"{person_name}/{count+1}.jpg\", \"wb\") as file:\n",
    "                file.write(response.content)\n",
    "\n",
    "            count += 1\n",
    "\n",
    "        except Exception as e:\n",
    "            # In case of any errors, continue to the next image\n",
    "            print(f\"Error downloading image: {e}\")\n",
    "\n",
    "    print(f\"Downloaded {count} images of {person_name}.\")\n",
    "\n",
    "# Prompt the user to enter the person's name\n",
    "person_name = input(\"Enter the person's name: \")\n",
    "\n",
    "# Call the download_images function to download 50 photos of the person\n",
    "download_images(person_name, 50)"
   ]
  },
  {
   "cell_type": "code",
   "execution_count": null,
   "id": "9d635895",
   "metadata": {},
   "outputs": [],
   "source": []
  }
 ],
 "metadata": {
  "kernelspec": {
   "display_name": "Python 3 (ipykernel)",
   "language": "python",
   "name": "python3"
  },
  "language_info": {
   "codemirror_mode": {
    "name": "ipython",
    "version": 3
   },
   "file_extension": ".py",
   "mimetype": "text/x-python",
   "name": "python",
   "nbconvert_exporter": "python",
   "pygments_lexer": "ipython3",
   "version": "3.9.13"
  }
 },
 "nbformat": 4,
 "nbformat_minor": 5
}
